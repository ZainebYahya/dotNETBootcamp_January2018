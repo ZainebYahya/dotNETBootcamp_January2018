{
 "cells": [
  {
   "cell_type": "code",
   "execution_count": 12,
   "metadata": {},
   "outputs": [
    {
     "name": "stdout",
     "output_type": "stream",
     "text": [
      "47832\n",
      "4783\n",
      "478\n",
      "47\n",
      "4\n",
      "0\n",
      "923874\n"
     ]
    }
   ],
   "source": [
    "UserInput = 478329\n",
    "output=\"\"\n",
    "while True:\n",
    "    r = UserInput % 10\n",
    "    output=output+str(r) \n",
    "    UserInput = UserInput // 10\n",
    "    print(UserInput)\n",
    "    if UserInput<=0:\n",
    "        break;\n",
    "print(output)\n"
   ]
  },
  {
   "cell_type": "code",
   "execution_count": null,
   "metadata": {},
   "outputs": [],
   "source": []
  }
 ],
 "metadata": {
  "kernelspec": {
   "display_name": "Python 3",
   "language": "python",
   "name": "python3"
  },
  "language_info": {
   "codemirror_mode": {
    "name": "ipython",
    "version": 3
   },
   "file_extension": ".py",
   "mimetype": "text/x-python",
   "name": "python",
   "nbconvert_exporter": "python",
   "pygments_lexer": "ipython3",
   "version": "3.6.1"
  }
 },
 "nbformat": 4,
 "nbformat_minor": 2
}
